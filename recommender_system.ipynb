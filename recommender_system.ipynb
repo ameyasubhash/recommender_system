{
  "nbformat": 4,
  "nbformat_minor": 0,
  "metadata": {
    "colab": {
      "provenance": [],
      "authorship_tag": "ABX9TyNHs3YsoI4gy6eEZ8f8JpF9",
      "include_colab_link": true
    },
    "kernelspec": {
      "name": "python3",
      "display_name": "Python 3"
    },
    "language_info": {
      "name": "python"
    }
  },
  "cells": [
    {
      "cell_type": "markdown",
      "metadata": {
        "id": "view-in-github",
        "colab_type": "text"
      },
      "source": [
        "<a href=\"https://colab.research.google.com/github/ameyasubhash/recommender_system/blob/main/recommender_system.ipynb\" target=\"_parent\"><img src=\"https://colab.research.google.com/assets/colab-badge.svg\" alt=\"Open In Colab\"/></a>"
      ]
    },
    {
      "cell_type": "code",
      "execution_count": null,
      "metadata": {
        "colab": {
          "base_uri": "https://localhost:8080/"
        },
        "id": "OSSruaNudwJp",
        "outputId": "b3fadfc8-e945-486b-92cf-f228ccf6469e"
      },
      "outputs": [
        {
          "output_type": "stream",
          "name": "stdout",
          "text": [
            "Mounted at /content/drive\n"
          ]
        }
      ],
      "source": [
        "from google.colab import drive\n",
        "drive.mount('/content/drive')\n",
        "import pandas as pd\n",
        "import numpy as np\n",
        "from sklearn.model_selection import train_test_split\n",
        "from sklearn.metrics import mean_absolute_error\n",
        "import math"
      ]
    },
    {
      "cell_type": "code",
      "source": [
        "data_movies = pd.read_csv('/content/drive/MyDrive/movies rating/movies.csv')\n",
        "data_ratings = pd.read_csv('/content/drive/MyDrive/movies rating/rating.csv')\n",
        "data_users = pd.read_csv('/content/drive/MyDrive/movies rating/users.csv')\n"
      ],
      "metadata": {
        "id": "yRB8fx_aeAw4"
      },
      "execution_count": null,
      "outputs": []
    },
    {
      "cell_type": "code",
      "source": [
        "data_ratings.head()"
      ],
      "metadata": {
        "colab": {
          "base_uri": "https://localhost:8080/",
          "height": 206
        },
        "id": "3mIHZ79neMCm",
        "outputId": "011f085b-fd44-44b9-df3d-aae03357dac2"
      },
      "execution_count": null,
      "outputs": [
        {
          "output_type": "execute_result",
          "data": {
            "text/plain": [
              "   UserID  MovieID  Rating\n",
              "0       1     1193       5\n",
              "1       1      661       3\n",
              "2       1      914       3\n",
              "3       1     3408       4\n",
              "4       1     2355       5"
            ],
            "text/html": [
              "\n",
              "\n",
              "  <div id=\"df-bbb4caee-9034-4721-b080-fbe094916416\">\n",
              "    <div class=\"colab-df-container\">\n",
              "      <div>\n",
              "<style scoped>\n",
              "    .dataframe tbody tr th:only-of-type {\n",
              "        vertical-align: middle;\n",
              "    }\n",
              "\n",
              "    .dataframe tbody tr th {\n",
              "        vertical-align: top;\n",
              "    }\n",
              "\n",
              "    .dataframe thead th {\n",
              "        text-align: right;\n",
              "    }\n",
              "</style>\n",
              "<table border=\"1\" class=\"dataframe\">\n",
              "  <thead>\n",
              "    <tr style=\"text-align: right;\">\n",
              "      <th></th>\n",
              "      <th>UserID</th>\n",
              "      <th>MovieID</th>\n",
              "      <th>Rating</th>\n",
              "    </tr>\n",
              "  </thead>\n",
              "  <tbody>\n",
              "    <tr>\n",
              "      <th>0</th>\n",
              "      <td>1</td>\n",
              "      <td>1193</td>\n",
              "      <td>5</td>\n",
              "    </tr>\n",
              "    <tr>\n",
              "      <th>1</th>\n",
              "      <td>1</td>\n",
              "      <td>661</td>\n",
              "      <td>3</td>\n",
              "    </tr>\n",
              "    <tr>\n",
              "      <th>2</th>\n",
              "      <td>1</td>\n",
              "      <td>914</td>\n",
              "      <td>3</td>\n",
              "    </tr>\n",
              "    <tr>\n",
              "      <th>3</th>\n",
              "      <td>1</td>\n",
              "      <td>3408</td>\n",
              "      <td>4</td>\n",
              "    </tr>\n",
              "    <tr>\n",
              "      <th>4</th>\n",
              "      <td>1</td>\n",
              "      <td>2355</td>\n",
              "      <td>5</td>\n",
              "    </tr>\n",
              "  </tbody>\n",
              "</table>\n",
              "</div>\n",
              "      <button class=\"colab-df-convert\" onclick=\"convertToInteractive('df-bbb4caee-9034-4721-b080-fbe094916416')\"\n",
              "              title=\"Convert this dataframe to an interactive table.\"\n",
              "              style=\"display:none;\">\n",
              "\n",
              "  <svg xmlns=\"http://www.w3.org/2000/svg\" height=\"24px\"viewBox=\"0 0 24 24\"\n",
              "       width=\"24px\">\n",
              "    <path d=\"M0 0h24v24H0V0z\" fill=\"none\"/>\n",
              "    <path d=\"M18.56 5.44l.94 2.06.94-2.06 2.06-.94-2.06-.94-.94-2.06-.94 2.06-2.06.94zm-11 1L8.5 8.5l.94-2.06 2.06-.94-2.06-.94L8.5 2.5l-.94 2.06-2.06.94zm10 10l.94 2.06.94-2.06 2.06-.94-2.06-.94-.94-2.06-.94 2.06-2.06.94z\"/><path d=\"M17.41 7.96l-1.37-1.37c-.4-.4-.92-.59-1.43-.59-.52 0-1.04.2-1.43.59L10.3 9.45l-7.72 7.72c-.78.78-.78 2.05 0 2.83L4 21.41c.39.39.9.59 1.41.59.51 0 1.02-.2 1.41-.59l7.78-7.78 2.81-2.81c.8-.78.8-2.07 0-2.86zM5.41 20L4 18.59l7.72-7.72 1.47 1.35L5.41 20z\"/>\n",
              "  </svg>\n",
              "      </button>\n",
              "\n",
              "\n",
              "\n",
              "    <div id=\"df-b775c6e9-9eb9-4c84-9335-556e823ff396\">\n",
              "      <button class=\"colab-df-quickchart\" onclick=\"quickchart('df-b775c6e9-9eb9-4c84-9335-556e823ff396')\"\n",
              "              title=\"Suggest charts.\"\n",
              "              style=\"display:none;\">\n",
              "\n",
              "<svg xmlns=\"http://www.w3.org/2000/svg\" height=\"24px\"viewBox=\"0 0 24 24\"\n",
              "     width=\"24px\">\n",
              "    <g>\n",
              "        <path d=\"M19 3H5c-1.1 0-2 .9-2 2v14c0 1.1.9 2 2 2h14c1.1 0 2-.9 2-2V5c0-1.1-.9-2-2-2zM9 17H7v-7h2v7zm4 0h-2V7h2v10zm4 0h-2v-4h2v4z\"/>\n",
              "    </g>\n",
              "</svg>\n",
              "      </button>\n",
              "    </div>\n",
              "\n",
              "<style>\n",
              "  .colab-df-quickchart {\n",
              "    background-color: #E8F0FE;\n",
              "    border: none;\n",
              "    border-radius: 50%;\n",
              "    cursor: pointer;\n",
              "    display: none;\n",
              "    fill: #1967D2;\n",
              "    height: 32px;\n",
              "    padding: 0 0 0 0;\n",
              "    width: 32px;\n",
              "  }\n",
              "\n",
              "  .colab-df-quickchart:hover {\n",
              "    background-color: #E2EBFA;\n",
              "    box-shadow: 0px 1px 2px rgba(60, 64, 67, 0.3), 0px 1px 3px 1px rgba(60, 64, 67, 0.15);\n",
              "    fill: #174EA6;\n",
              "  }\n",
              "\n",
              "  [theme=dark] .colab-df-quickchart {\n",
              "    background-color: #3B4455;\n",
              "    fill: #D2E3FC;\n",
              "  }\n",
              "\n",
              "  [theme=dark] .colab-df-quickchart:hover {\n",
              "    background-color: #434B5C;\n",
              "    box-shadow: 0px 1px 3px 1px rgba(0, 0, 0, 0.15);\n",
              "    filter: drop-shadow(0px 1px 2px rgba(0, 0, 0, 0.3));\n",
              "    fill: #FFFFFF;\n",
              "  }\n",
              "</style>\n",
              "\n",
              "    <script>\n",
              "      async function quickchart(key) {\n",
              "        const containerElement = document.querySelector('#' + key);\n",
              "        const charts = await google.colab.kernel.invokeFunction(\n",
              "            'suggestCharts', [key], {});\n",
              "      }\n",
              "    </script>\n",
              "\n",
              "      <script>\n",
              "\n",
              "function displayQuickchartButton(domScope) {\n",
              "  let quickchartButtonEl =\n",
              "    domScope.querySelector('#df-b775c6e9-9eb9-4c84-9335-556e823ff396 button.colab-df-quickchart');\n",
              "  quickchartButtonEl.style.display =\n",
              "    google.colab.kernel.accessAllowed ? 'block' : 'none';\n",
              "}\n",
              "\n",
              "        displayQuickchartButton(document);\n",
              "      </script>\n",
              "      <style>\n",
              "    .colab-df-container {\n",
              "      display:flex;\n",
              "      flex-wrap:wrap;\n",
              "      gap: 12px;\n",
              "    }\n",
              "\n",
              "    .colab-df-convert {\n",
              "      background-color: #E8F0FE;\n",
              "      border: none;\n",
              "      border-radius: 50%;\n",
              "      cursor: pointer;\n",
              "      display: none;\n",
              "      fill: #1967D2;\n",
              "      height: 32px;\n",
              "      padding: 0 0 0 0;\n",
              "      width: 32px;\n",
              "    }\n",
              "\n",
              "    .colab-df-convert:hover {\n",
              "      background-color: #E2EBFA;\n",
              "      box-shadow: 0px 1px 2px rgba(60, 64, 67, 0.3), 0px 1px 3px 1px rgba(60, 64, 67, 0.15);\n",
              "      fill: #174EA6;\n",
              "    }\n",
              "\n",
              "    [theme=dark] .colab-df-convert {\n",
              "      background-color: #3B4455;\n",
              "      fill: #D2E3FC;\n",
              "    }\n",
              "\n",
              "    [theme=dark] .colab-df-convert:hover {\n",
              "      background-color: #434B5C;\n",
              "      box-shadow: 0px 1px 3px 1px rgba(0, 0, 0, 0.15);\n",
              "      filter: drop-shadow(0px 1px 2px rgba(0, 0, 0, 0.3));\n",
              "      fill: #FFFFFF;\n",
              "    }\n",
              "  </style>\n",
              "\n",
              "      <script>\n",
              "        const buttonEl =\n",
              "          document.querySelector('#df-bbb4caee-9034-4721-b080-fbe094916416 button.colab-df-convert');\n",
              "        buttonEl.style.display =\n",
              "          google.colab.kernel.accessAllowed ? 'block' : 'none';\n",
              "\n",
              "        async function convertToInteractive(key) {\n",
              "          const element = document.querySelector('#df-bbb4caee-9034-4721-b080-fbe094916416');\n",
              "          const dataTable =\n",
              "            await google.colab.kernel.invokeFunction('convertToInteractive',\n",
              "                                                     [key], {});\n",
              "          if (!dataTable) return;\n",
              "\n",
              "          const docLinkHtml = 'Like what you see? Visit the ' +\n",
              "            '<a target=\"_blank\" href=https://colab.research.google.com/notebooks/data_table.ipynb>data table notebook</a>'\n",
              "            + ' to learn more about interactive tables.';\n",
              "          element.innerHTML = '';\n",
              "          dataTable['output_type'] = 'display_data';\n",
              "          await google.colab.output.renderOutput(dataTable, element);\n",
              "          const docLink = document.createElement('div');\n",
              "          docLink.innerHTML = docLinkHtml;\n",
              "          element.appendChild(docLink);\n",
              "        }\n",
              "      </script>\n",
              "    </div>\n",
              "  </div>\n"
            ]
          },
          "metadata": {},
          "execution_count": 3
        }
      ]
    },
    {
      "cell_type": "code",
      "source": [
        "data_ratings.tail()"
      ],
      "metadata": {
        "colab": {
          "base_uri": "https://localhost:8080/",
          "height": 206
        },
        "id": "9N-cUXJSpwmJ",
        "outputId": "9ed3c246-09b6-4441-b482-e65e84a5d4d3"
      },
      "execution_count": null,
      "outputs": [
        {
          "output_type": "execute_result",
          "data": {
            "text/plain": [
              "         UserID  MovieID  Rating\n",
              "1000204    6040     1091       1\n",
              "1000205    6040     1094       5\n",
              "1000206    6040      562       5\n",
              "1000207    6040     1096       4\n",
              "1000208    6040     1097       4"
            ],
            "text/html": [
              "\n",
              "\n",
              "  <div id=\"df-b8c37c94-6e20-4f8e-ab9b-035a49b9182f\">\n",
              "    <div class=\"colab-df-container\">\n",
              "      <div>\n",
              "<style scoped>\n",
              "    .dataframe tbody tr th:only-of-type {\n",
              "        vertical-align: middle;\n",
              "    }\n",
              "\n",
              "    .dataframe tbody tr th {\n",
              "        vertical-align: top;\n",
              "    }\n",
              "\n",
              "    .dataframe thead th {\n",
              "        text-align: right;\n",
              "    }\n",
              "</style>\n",
              "<table border=\"1\" class=\"dataframe\">\n",
              "  <thead>\n",
              "    <tr style=\"text-align: right;\">\n",
              "      <th></th>\n",
              "      <th>UserID</th>\n",
              "      <th>MovieID</th>\n",
              "      <th>Rating</th>\n",
              "    </tr>\n",
              "  </thead>\n",
              "  <tbody>\n",
              "    <tr>\n",
              "      <th>1000204</th>\n",
              "      <td>6040</td>\n",
              "      <td>1091</td>\n",
              "      <td>1</td>\n",
              "    </tr>\n",
              "    <tr>\n",
              "      <th>1000205</th>\n",
              "      <td>6040</td>\n",
              "      <td>1094</td>\n",
              "      <td>5</td>\n",
              "    </tr>\n",
              "    <tr>\n",
              "      <th>1000206</th>\n",
              "      <td>6040</td>\n",
              "      <td>562</td>\n",
              "      <td>5</td>\n",
              "    </tr>\n",
              "    <tr>\n",
              "      <th>1000207</th>\n",
              "      <td>6040</td>\n",
              "      <td>1096</td>\n",
              "      <td>4</td>\n",
              "    </tr>\n",
              "    <tr>\n",
              "      <th>1000208</th>\n",
              "      <td>6040</td>\n",
              "      <td>1097</td>\n",
              "      <td>4</td>\n",
              "    </tr>\n",
              "  </tbody>\n",
              "</table>\n",
              "</div>\n",
              "      <button class=\"colab-df-convert\" onclick=\"convertToInteractive('df-b8c37c94-6e20-4f8e-ab9b-035a49b9182f')\"\n",
              "              title=\"Convert this dataframe to an interactive table.\"\n",
              "              style=\"display:none;\">\n",
              "\n",
              "  <svg xmlns=\"http://www.w3.org/2000/svg\" height=\"24px\"viewBox=\"0 0 24 24\"\n",
              "       width=\"24px\">\n",
              "    <path d=\"M0 0h24v24H0V0z\" fill=\"none\"/>\n",
              "    <path d=\"M18.56 5.44l.94 2.06.94-2.06 2.06-.94-2.06-.94-.94-2.06-.94 2.06-2.06.94zm-11 1L8.5 8.5l.94-2.06 2.06-.94-2.06-.94L8.5 2.5l-.94 2.06-2.06.94zm10 10l.94 2.06.94-2.06 2.06-.94-2.06-.94-.94-2.06-.94 2.06-2.06.94z\"/><path d=\"M17.41 7.96l-1.37-1.37c-.4-.4-.92-.59-1.43-.59-.52 0-1.04.2-1.43.59L10.3 9.45l-7.72 7.72c-.78.78-.78 2.05 0 2.83L4 21.41c.39.39.9.59 1.41.59.51 0 1.02-.2 1.41-.59l7.78-7.78 2.81-2.81c.8-.78.8-2.07 0-2.86zM5.41 20L4 18.59l7.72-7.72 1.47 1.35L5.41 20z\"/>\n",
              "  </svg>\n",
              "      </button>\n",
              "\n",
              "\n",
              "\n",
              "    <div id=\"df-32f1a4c1-db13-4022-9b18-258248dc8ffd\">\n",
              "      <button class=\"colab-df-quickchart\" onclick=\"quickchart('df-32f1a4c1-db13-4022-9b18-258248dc8ffd')\"\n",
              "              title=\"Suggest charts.\"\n",
              "              style=\"display:none;\">\n",
              "\n",
              "<svg xmlns=\"http://www.w3.org/2000/svg\" height=\"24px\"viewBox=\"0 0 24 24\"\n",
              "     width=\"24px\">\n",
              "    <g>\n",
              "        <path d=\"M19 3H5c-1.1 0-2 .9-2 2v14c0 1.1.9 2 2 2h14c1.1 0 2-.9 2-2V5c0-1.1-.9-2-2-2zM9 17H7v-7h2v7zm4 0h-2V7h2v10zm4 0h-2v-4h2v4z\"/>\n",
              "    </g>\n",
              "</svg>\n",
              "      </button>\n",
              "    </div>\n",
              "\n",
              "<style>\n",
              "  .colab-df-quickchart {\n",
              "    background-color: #E8F0FE;\n",
              "    border: none;\n",
              "    border-radius: 50%;\n",
              "    cursor: pointer;\n",
              "    display: none;\n",
              "    fill: #1967D2;\n",
              "    height: 32px;\n",
              "    padding: 0 0 0 0;\n",
              "    width: 32px;\n",
              "  }\n",
              "\n",
              "  .colab-df-quickchart:hover {\n",
              "    background-color: #E2EBFA;\n",
              "    box-shadow: 0px 1px 2px rgba(60, 64, 67, 0.3), 0px 1px 3px 1px rgba(60, 64, 67, 0.15);\n",
              "    fill: #174EA6;\n",
              "  }\n",
              "\n",
              "  [theme=dark] .colab-df-quickchart {\n",
              "    background-color: #3B4455;\n",
              "    fill: #D2E3FC;\n",
              "  }\n",
              "\n",
              "  [theme=dark] .colab-df-quickchart:hover {\n",
              "    background-color: #434B5C;\n",
              "    box-shadow: 0px 1px 3px 1px rgba(0, 0, 0, 0.15);\n",
              "    filter: drop-shadow(0px 1px 2px rgba(0, 0, 0, 0.3));\n",
              "    fill: #FFFFFF;\n",
              "  }\n",
              "</style>\n",
              "\n",
              "    <script>\n",
              "      async function quickchart(key) {\n",
              "        const containerElement = document.querySelector('#' + key);\n",
              "        const charts = await google.colab.kernel.invokeFunction(\n",
              "            'suggestCharts', [key], {});\n",
              "      }\n",
              "    </script>\n",
              "\n",
              "      <script>\n",
              "\n",
              "function displayQuickchartButton(domScope) {\n",
              "  let quickchartButtonEl =\n",
              "    domScope.querySelector('#df-32f1a4c1-db13-4022-9b18-258248dc8ffd button.colab-df-quickchart');\n",
              "  quickchartButtonEl.style.display =\n",
              "    google.colab.kernel.accessAllowed ? 'block' : 'none';\n",
              "}\n",
              "\n",
              "        displayQuickchartButton(document);\n",
              "      </script>\n",
              "      <style>\n",
              "    .colab-df-container {\n",
              "      display:flex;\n",
              "      flex-wrap:wrap;\n",
              "      gap: 12px;\n",
              "    }\n",
              "\n",
              "    .colab-df-convert {\n",
              "      background-color: #E8F0FE;\n",
              "      border: none;\n",
              "      border-radius: 50%;\n",
              "      cursor: pointer;\n",
              "      display: none;\n",
              "      fill: #1967D2;\n",
              "      height: 32px;\n",
              "      padding: 0 0 0 0;\n",
              "      width: 32px;\n",
              "    }\n",
              "\n",
              "    .colab-df-convert:hover {\n",
              "      background-color: #E2EBFA;\n",
              "      box-shadow: 0px 1px 2px rgba(60, 64, 67, 0.3), 0px 1px 3px 1px rgba(60, 64, 67, 0.15);\n",
              "      fill: #174EA6;\n",
              "    }\n",
              "\n",
              "    [theme=dark] .colab-df-convert {\n",
              "      background-color: #3B4455;\n",
              "      fill: #D2E3FC;\n",
              "    }\n",
              "\n",
              "    [theme=dark] .colab-df-convert:hover {\n",
              "      background-color: #434B5C;\n",
              "      box-shadow: 0px 1px 3px 1px rgba(0, 0, 0, 0.15);\n",
              "      filter: drop-shadow(0px 1px 2px rgba(0, 0, 0, 0.3));\n",
              "      fill: #FFFFFF;\n",
              "    }\n",
              "  </style>\n",
              "\n",
              "      <script>\n",
              "        const buttonEl =\n",
              "          document.querySelector('#df-b8c37c94-6e20-4f8e-ab9b-035a49b9182f button.colab-df-convert');\n",
              "        buttonEl.style.display =\n",
              "          google.colab.kernel.accessAllowed ? 'block' : 'none';\n",
              "\n",
              "        async function convertToInteractive(key) {\n",
              "          const element = document.querySelector('#df-b8c37c94-6e20-4f8e-ab9b-035a49b9182f');\n",
              "          const dataTable =\n",
              "            await google.colab.kernel.invokeFunction('convertToInteractive',\n",
              "                                                     [key], {});\n",
              "          if (!dataTable) return;\n",
              "\n",
              "          const docLinkHtml = 'Like what you see? Visit the ' +\n",
              "            '<a target=\"_blank\" href=https://colab.research.google.com/notebooks/data_table.ipynb>data table notebook</a>'\n",
              "            + ' to learn more about interactive tables.';\n",
              "          element.innerHTML = '';\n",
              "          dataTable['output_type'] = 'display_data';\n",
              "          await google.colab.output.renderOutput(dataTable, element);\n",
              "          const docLink = document.createElement('div');\n",
              "          docLink.innerHTML = docLinkHtml;\n",
              "          element.appendChild(docLink);\n",
              "        }\n",
              "      </script>\n",
              "    </div>\n",
              "  </div>\n"
            ]
          },
          "metadata": {},
          "execution_count": 4
        }
      ]
    },
    {
      "cell_type": "code",
      "source": [
        "data_ratings.shape"
      ],
      "metadata": {
        "colab": {
          "base_uri": "https://localhost:8080/"
        },
        "id": "EZSpaEbDZqEe",
        "outputId": "bf4b62ae-8253-4db4-de7c-6885a6126ba7"
      },
      "execution_count": null,
      "outputs": [
        {
          "output_type": "execute_result",
          "data": {
            "text/plain": [
              "(1000209, 3)"
            ]
          },
          "metadata": {},
          "execution_count": 5
        }
      ]
    },
    {
      "cell_type": "code",
      "source": [
        "data_ratings.info()"
      ],
      "metadata": {
        "colab": {
          "base_uri": "https://localhost:8080/"
        },
        "id": "rPI0qrxSaJ4F",
        "outputId": "4ed9b4d8-e96b-4cc9-b965-3fd12bf50048"
      },
      "execution_count": null,
      "outputs": [
        {
          "output_type": "stream",
          "name": "stdout",
          "text": [
            "<class 'pandas.core.frame.DataFrame'>\n",
            "RangeIndex: 1000209 entries, 0 to 1000208\n",
            "Data columns (total 3 columns):\n",
            " #   Column   Non-Null Count    Dtype\n",
            "---  ------   --------------    -----\n",
            " 0   UserID   1000209 non-null  int64\n",
            " 1   MovieID  1000209 non-null  int64\n",
            " 2   Rating   1000209 non-null  int64\n",
            "dtypes: int64(3)\n",
            "memory usage: 22.9 MB\n"
          ]
        }
      ]
    },
    {
      "cell_type": "code",
      "source": [
        "data_ratings= pd.DataFrame(data_ratings)\n",
        "print(data_ratings)\n"
      ],
      "metadata": {
        "id": "Y10lQuPbhgmI",
        "colab": {
          "base_uri": "https://localhost:8080/"
        },
        "outputId": "1356be09-6e6b-4c12-ecd6-93ded053fb12"
      },
      "execution_count": null,
      "outputs": [
        {
          "output_type": "stream",
          "name": "stdout",
          "text": [
            "         UserID  MovieID  Rating\n",
            "0             1     1193       5\n",
            "1             1      661       3\n",
            "2             1      914       3\n",
            "3             1     3408       4\n",
            "4             1     2355       5\n",
            "...         ...      ...     ...\n",
            "1000204    6040     1091       1\n",
            "1000205    6040     1094       5\n",
            "1000206    6040      562       5\n",
            "1000207    6040     1096       4\n",
            "1000208    6040     1097       4\n",
            "\n",
            "[1000209 rows x 3 columns]\n"
          ]
        }
      ]
    },
    {
      "cell_type": "code",
      "source": [
        "data_ratings_array=data_ratings_array = data_ratings.pivot(index='UserID', columns='MovieID', values='Rating').fillna(0).values\n"
      ],
      "metadata": {
        "id": "d3lCb0E4Dq7b"
      },
      "execution_count": null,
      "outputs": []
    },
    {
      "cell_type": "code",
      "source": [
        "print(data_ratings_array)"
      ],
      "metadata": {
        "colab": {
          "base_uri": "https://localhost:8080/"
        },
        "id": "kmhzjq9RDzPs",
        "outputId": "2d046792-40ea-4906-fd2a-d076a32fc89e"
      },
      "execution_count": null,
      "outputs": [
        {
          "output_type": "stream",
          "name": "stdout",
          "text": [
            "[[5. 0. 0. ... 0. 0. 0.]\n",
            " [0. 0. 0. ... 0. 0. 0.]\n",
            " [0. 0. 0. ... 0. 0. 0.]\n",
            " ...\n",
            " [0. 0. 0. ... 0. 0. 0.]\n",
            " [0. 0. 0. ... 0. 0. 0.]\n",
            " [3. 0. 0. ... 0. 0. 0.]]\n"
          ]
        }
      ]
    },
    {
      "cell_type": "code",
      "source": [
        "X_train, X_test = train_test_split(data_ratings, test_size = 0.20, random_state = 42)\n",
        "\n",
        "print(X_train.shape)\n",
        "print(X_test.shape)"
      ],
      "metadata": {
        "colab": {
          "base_uri": "https://localhost:8080/"
        },
        "id": "qYBo8_lcaXRu",
        "outputId": "ecee3515-8bfb-4680-cdc2-13b10c2f6b87"
      },
      "execution_count": null,
      "outputs": [
        {
          "output_type": "stream",
          "name": "stdout",
          "text": [
            "(800167, 3)\n",
            "(200042, 3)\n"
          ]
        }
      ]
    },
    {
      "cell_type": "code",
      "source": [
        "X_train.shape"
      ],
      "metadata": {
        "colab": {
          "base_uri": "https://localhost:8080/"
        },
        "id": "Zh63ZhpgnFTA",
        "outputId": "cfdb0eb0-9e5b-4896-d021-d3b257275099"
      },
      "execution_count": null,
      "outputs": [
        {
          "output_type": "execute_result",
          "data": {
            "text/plain": [
              "(800167, 3)"
            ]
          },
          "metadata": {},
          "execution_count": 11
        }
      ]
    },
    {
      "cell_type": "code",
      "source": [
        "dummy_train = X_train.copy()\n",
        "dummy_test = X_test.copy()\n",
        "\n",
        "# The movies not rated by user is marked as 1 for prediction\n",
        "dummy_train = dummy_train.pivot(index = 'UserID', columns = 'MovieID', values = 'Rating')\n",
        "\n",
        "# The movies not rated by user is marked as 0 for evaluation\n",
        "dummy_test = dummy_test.pivot(index ='UserID', columns = 'MovieID', values = 'Rating')\n",
        "\n",
        "dummy_train_array=dummy_train.to_numpy()\n",
        "dummy_test_array=dummy_test.to_numpy()\n"
      ],
      "metadata": {
        "id": "0lP9w47qetUg"
      },
      "execution_count": null,
      "outputs": []
    },
    {
      "cell_type": "code",
      "source": [
        "print(dummy_train_array)\n",
        "dummy_train_array.shape"
      ],
      "metadata": {
        "colab": {
          "base_uri": "https://localhost:8080/"
        },
        "id": "7HlbgIIIAr7z",
        "outputId": "35f27960-8099-4c1f-a8e1-bc5b055b1efe"
      },
      "execution_count": null,
      "outputs": [
        {
          "output_type": "stream",
          "name": "stdout",
          "text": [
            "[[ 5. nan nan ... nan nan nan]\n",
            " [nan nan nan ... nan nan nan]\n",
            " [nan nan nan ... nan nan nan]\n",
            " ...\n",
            " [nan nan nan ... nan nan nan]\n",
            " [nan nan nan ... nan nan nan]\n",
            " [ 3. nan nan ... nan nan nan]]\n"
          ]
        },
        {
          "output_type": "execute_result",
          "data": {
            "text/plain": [
              "(6040, 3683)"
            ]
          },
          "metadata": {},
          "execution_count": 13
        }
      ]
    },
    {
      "cell_type": "code",
      "source": [
        "print(dummy_test_array)\n",
        "dummy_test_array.shape"
      ],
      "metadata": {
        "colab": {
          "base_uri": "https://localhost:8080/"
        },
        "id": "cTO5aTmLAtgI",
        "outputId": "d45b8452-662e-44df-d25d-8538f1c6436c"
      },
      "execution_count": null,
      "outputs": [
        {
          "output_type": "stream",
          "name": "stdout",
          "text": [
            "[[nan nan nan ... nan nan nan]\n",
            " [nan nan nan ... nan nan nan]\n",
            " [nan nan nan ... nan nan nan]\n",
            " ...\n",
            " [nan nan nan ... nan nan nan]\n",
            " [nan nan nan ... nan nan nan]\n",
            " [nan nan nan ... nan nan nan]]\n"
          ]
        },
        {
          "output_type": "execute_result",
          "data": {
            "text/plain": [
              "(6038, 3444)"
            ]
          },
          "metadata": {},
          "execution_count": 14
        }
      ]
    },
    {
      "cell_type": "code",
      "source": [
        "dummy_train_array.shape[1]"
      ],
      "metadata": {
        "colab": {
          "base_uri": "https://localhost:8080/"
        },
        "id": "BnSPtJS0NHoO",
        "outputId": "f8c77d26-ebb9-4cb0-ec10-e7b4a878cb13"
      },
      "execution_count": null,
      "outputs": [
        {
          "output_type": "execute_result",
          "data": {
            "text/plain": [
              "3683"
            ]
          },
          "metadata": {},
          "execution_count": 15
        }
      ]
    },
    {
      "cell_type": "code",
      "source": [
        "user_id = int(input(\"Enter UserID: \"))\n"
      ],
      "metadata": {
        "colab": {
          "base_uri": "https://localhost:8080/"
        },
        "id": "cIsSi6jFsMUd",
        "outputId": "0894ebcd-ffbd-4611-a1f2-f3526b62e388"
      },
      "execution_count": null,
      "outputs": [
        {
          "name": "stdout",
          "output_type": "stream",
          "text": [
            "Enter UserID: 987\n"
          ]
        }
      ]
    },
    {
      "cell_type": "code",
      "source": [
        "rated_items_train = np.where((~np.isnan(dummy_train_array[user_id, :]))& (dummy_train_array[user_id, :] >= 1) & (dummy_train_array[user_id, :] <= 5))[0]\n",
        "rated_items_test = np.where((~np.isnan(dummy_test_array[user_id, :]))& (dummy_test_array[user_id, :] >= 1) & (dummy_test_array[user_id, :] <= 5))[0]\n",
        "\n",
        "print(rated_items_train)\n",
        "\n",
        "print(rated_items_test)\n",
        "\n",
        "\n",
        "similarity_values = []"
      ],
      "metadata": {
        "colab": {
          "base_uri": "https://localhost:8080/"
        },
        "id": "tf7ZPZe42Rnf",
        "outputId": "da281bb9-6124-4503-e20c-cb17970c6d53"
      },
      "execution_count": null,
      "outputs": [
        {
          "output_type": "stream",
          "name": "stdout",
          "text": [
            "[ 117  143  252  464  575  589  796 1006 1012 1019 1102 1118 1124 1125\n",
            " 1148 1149 1161 1167 1172 1201 1209 1254 1282 1289 1361 1519 1566 1762\n",
            " 1778 1953 2116 2147 2191 2360 2526 2527 2543 2572 2576 2635 2691 2693\n",
            " 2694 2695 2741 2837 2841 2867 2945 2962 3040 3041 3056 3105 3193 3254\n",
            " 3271 3345 3354 3360 3489]\n",
            "[ 273  939 1101 1386 1704 2050 2599 2821 3081 3084 3104 3105]\n"
          ]
        }
      ]
    },
    {
      "cell_type": "code",
      "source": [
        "def adjusted_cosine_similarity(ratings_matrix, u, v):\n",
        "    ratings_u = ratings_matrix[:, u]\n",
        "    ratings_v = ratings_matrix[:, v]\n",
        "\n",
        "    bu = np.nanmean(ratings_u)\n",
        "    print\n",
        "    bv = np.nanmean(ratings_v)\n",
        "\n",
        "    centered_ratings_u = ratings_u - bu\n",
        "    centered_ratings_v = ratings_v - bv\n",
        "\n",
        "    numerator = np.nansum(centered_ratings_u * centered_ratings_v)\n",
        "    denominator = np.sqrt(np.nansum(centered_ratings_u**2)) * np.sqrt(np.nansum(centered_ratings_v**2))\n",
        "\n",
        "    if denominator == 0.0 or np.isnan(denominator):\n",
        "        similarity = 0.0\n",
        "    else:\n",
        "        similarity = numerator / denominator\n",
        "    return similarity"
      ],
      "metadata": {
        "id": "uQ615DMietOZ"
      },
      "execution_count": null,
      "outputs": []
    },
    {
      "cell_type": "code",
      "source": [
        "predicted_ratings = {}\n",
        "similarity_values = []\n",
        "similarity_dict = {}\n",
        "sorted_similarity_dict={}\n",
        "pos_similarity_dict={}"
      ],
      "metadata": {
        "id": "64IlMVZ4Phif"
      },
      "execution_count": null,
      "outputs": []
    },
    {
      "cell_type": "code",
      "source": [
        "def predict_ratings(user_id, rated_items_test):\n",
        "    global predicted_ratings\n",
        "    global similarity_values\n",
        "    global similarity_dict\n",
        "    global sorted_similarity_dict\n",
        "    global pos_similarity_dict\n",
        "    for item_id in rated_items_test:\n",
        "\n",
        "        for item in rated_items_train:\n",
        "            similarity = adjusted_cosine_similarity(dummy_train_array, item_id, item)\n",
        "            similarity_values.append(similarity)\n",
        "\n",
        "        similarity_dict = dict(zip(rated_items_train, similarity_values))\n",
        "        sorted_similarity_dict = dict(sorted(similarity_dict.items(), key=lambda x: x[1], reverse=True))\n",
        "        pos_similarity_dict = {k: v for k, v in sorted_similarity_dict.items() if v > 0}\n",
        "\n",
        "        weighted_sum = 0.0\n",
        "        similarity_sum = 0.0\n",
        "\n",
        "        for rated_item, similarity_value in pos_similarity_dict.items():\n",
        "            rating = dummy_train_array[user_id, rated_item]\n",
        "\n",
        "            weighted_sum += similarity_value * rating\n",
        "            similarity_sum += similarity_value\n",
        "\n",
        "        if similarity_sum == 0.0 or np.isnan(similarity_sum):\n",
        "            predicted_rating = 0.0\n",
        "        else:\n",
        "            predicted_rating = weighted_sum / similarity_sum\n",
        "\n",
        "        predicted_ratings[item_id] = predicted_rating\n",
        "    # print(similarity_dict)\n",
        "    return predicted_ratings\n"
      ],
      "metadata": {
        "id": "UXvYZ6d7Uy1D"
      },
      "execution_count": null,
      "outputs": []
    },
    {
      "cell_type": "code",
      "source": [
        "def mean_absolute_error(predicted_ratings, actual_ratings):\n",
        "    abs_diff = 0.0\n",
        "    count = 0\n",
        "\n",
        "    for i in range(len(predicted_ratings)):\n",
        "        if i < len(actual_ratings):\n",
        "            abs_diff += abs(actual_ratings[i] - predicted_ratings[i])\n",
        "            count += 1\n",
        "\n",
        "    if count > 0:\n",
        "        mae = abs_diff / count\n",
        "    else:\n",
        "        mae = 0.0\n",
        "\n",
        "    return mae\n"
      ],
      "metadata": {
        "id": "W8iIkFfLV3By"
      },
      "execution_count": null,
      "outputs": []
    },
    {
      "cell_type": "code",
      "source": [
        "actual_ratings = dummy_test_array[user_id, rated_items_test]\n",
        "actual_ratings_dict = dict(zip(rated_items_test,actual_ratings))"
      ],
      "metadata": {
        "id": "KsEqzm78fF3s"
      },
      "execution_count": null,
      "outputs": []
    },
    {
      "cell_type": "code",
      "source": [
        "predicted_ratings = predict_ratings(user_id, rated_items_test)\n",
        "predicted_ratings_values = list(predicted_ratings.values())\n",
        "mae = mean_absolute_error(predicted_ratings_values, actual_ratings)\n",
        "print(\"\\nMean Absolute Error: \", mae)"
      ],
      "metadata": {
        "colab": {
          "base_uri": "https://localhost:8080/"
        },
        "id": "LxfIgc88V6Pw",
        "outputId": "d7bd0a43-7050-453f-fd32-d7c25e9b24fc"
      },
      "execution_count": null,
      "outputs": [
        {
          "output_type": "stream",
          "name": "stdout",
          "text": [
            "\n",
            "Mean Absolute Error:  1.1081428515856586\n"
          ]
        }
      ]
    },
    {
      "cell_type": "code",
      "source": [
        "print(rated_items_train)\n",
        "print(rated_items_test)\n",
        "\n",
        "print(\"Similarity values of userID: \",user_id)\n",
        "print(similarity_dict)\n",
        "print(\"\\nPredicted rating for userID: \",user_id)\n",
        "print(predicted_ratings)\n",
        "print(\"\\nActual rating: \",actual_ratings_dict)\n",
        "print(\"\\nMean Absolute Error for userID: \",user_id)\n",
        "print(mae)\n",
        "# print(\"\\n\",rated_items_train)\n",
        "# print(rated_items_test)"
      ],
      "metadata": {
        "id": "K54DxpRRXf6L",
        "colab": {
          "base_uri": "https://localhost:8080/"
        },
        "outputId": "5de43f83-df92-4f00-fa71-2e0f2e340e8a"
      },
      "execution_count": null,
      "outputs": [
        {
          "output_type": "stream",
          "name": "stdout",
          "text": [
            "[ 117  143  252  464  575  589  796 1006 1012 1019 1102 1118 1124 1125\n",
            " 1148 1149 1161 1167 1172 1201 1209 1254 1282 1289 1361 1519 1566 1762\n",
            " 1778 1953 2116 2147 2191 2360 2526 2527 2543 2572 2576 2635 2691 2693\n",
            " 2694 2695 2741 2837 2841 2867 2945 2962 3040 3041 3056 3105 3193 3254\n",
            " 3271 3345 3354 3360 3489]\n",
            "[ 273  939 1101 1386 1704 2050 2599 2821 3081 3084 3104 3105]\n",
            "Similarity values of userID:  987\n",
            "{117: 0.02250338622638183, 143: 0.007944249467961394, 252: 0.017433731741886865, 464: -0.005260908669116286, 575: 0.030974947207173913, 589: 0.03804110277328473, 796: 0.03320321735619562, 1006: 0.04973136256785386, 1012: 0.038393732329919036, 1019: 0.03207613713353227, 1102: 0.015747313070699938, 1118: 0.019911885529747084, 1124: 0.007314503668197317, 1125: 0.01056027359174633, 1148: 0.013245909948208172, 1149: 0.03435428141202326, 1161: 0.044434552674177966, 1167: -0.0013672007679487073, 1172: 0.018617001733228042, 1201: 0.025166500896265775, 1209: 0.030969079765496656, 1254: 0.030565509278072726, 1282: -0.003414029743450797, 1289: 0.05928782870347655, 1361: 0.013450031659983677, 1519: -0.007004430410303464, 1566: 0.0017287052587902656, 1762: 0.012173912287386963, 1778: 0.04117099109597159, 1953: 0.0535117384305543, 2116: 0.038691571449644024, 2147: 0.054159082096822825, 2191: 0.056777796902737425, 2360: 0.018760165434597045, 2526: 0.01408369354636499, 2527: 0.030326330341724272, 2543: 0.032884212500080785, 2572: 0.05266077562009939, 2576: 0.04861062491493559, 2635: 0.029332408814125768, 2691: 0.05813140817103815, 2693: 0.09208897304044077, 2694: 0.045320551868821675, 2695: 0.018260047777835506, 2741: 0.059947588197347725, 2837: 0.1087690314183129, 2841: 0.0504430897409682, 2867: 0.06403783351914807, 2945: -0.0014488286489708377, 2962: 0.11609386428900141, 3040: 0.02564565175506007, 3041: 0.006249296145486994, 3056: 0.037827654630244824, 3105: 0.01702248959931926, 3193: 0.03343487285402384, 3254: 0.038409770664613235, 3271: 0.02570513599141206, 3345: 0.024508571425940363, 3354: -0.021861301093482596, 3360: 0.005678169521009291, 3489: -0.008457635434200984}\n",
            "\n",
            "Predicted rating for userID:  987\n",
            "{273: 4.162214277378488, 939: 4.162214277378488, 1101: 4.162214277378488, 1386: 4.162214277378488, 1704: 4.162214277378488, 2050: 4.162214277378488, 2599: 4.162214277378488, 2821: 4.162214277378488, 3081: 4.162214277378488, 3084: 4.162214277378488, 3104: 4.162214277378488, 3105: 4.162214277378488}\n",
            "\n",
            "Actual rating:  {273: 4.0, 939: 4.0, 1101: 4.0, 1386: 1.0, 1704: 5.0, 2050: 4.0, 2599: 4.0, 2821: 4.0, 3081: 5.0, 3084: 2.0, 3104: 1.0, 3105: 2.0}\n",
            "\n",
            "Mean Absolute Error for userID:  987\n",
            "1.1081428515856586\n"
          ]
        }
      ]
    },
    {
      "cell_type": "code",
      "source": [
        "user_mae_dict = {}  # Dictionary to store user_id as key and MAE as value\n",
        "\n",
        "for user_id in range(1, data_ratings_array.shape[0]+1):\n",
        "    rated_five_items = rated_items_test[5:]\n",
        "    # rated_items_test = np.where((~np.isnan(dummy_test_array[user_id, :])) & (dummy_test_array[user_id, :] >= 1) & (dummy_test_array[user_id, :] <= 5))[0]\n",
        "\n",
        "    if len(rated_items_test) > 0:\n",
        "        actual_ratings = dummy_test_array[user_id, rated_five_items]\n",
        "\n",
        "        predicted_ratings = predict_ratings(user_id, rated_five_items)\n",
        "        predicted_ratings_values = list(predicted_ratings.values())\n",
        "\n",
        "        mae = mean_absolute_error(predicted_ratings_values, actual_ratings)\n",
        "        user_mae_dict[user_id] = mae\n",
        "\n",
        "# Calculate the average MAE\n",
        "average_mae = sum(user_mae_dict.values()) / len(user_mae_dict)\n"
      ],
      "metadata": {
        "id": "U38BjrdEXgId",
        "colab": {
          "base_uri": "https://localhost:8080/",
          "height": 235
        },
        "outputId": "297159f7-6e35-4450-e947-f88b444836c5"
      },
      "execution_count": null,
      "outputs": [
        {
          "output_type": "error",
          "ename": "IndexError",
          "evalue": "ignored",
          "traceback": [
            "\u001b[0;31m---------------------------------------------------------------------------\u001b[0m",
            "\u001b[0;31mIndexError\u001b[0m                                Traceback (most recent call last)",
            "\u001b[0;32m<ipython-input-28-a8243016acb2>\u001b[0m in \u001b[0;36m<cell line: 3>\u001b[0;34m()\u001b[0m\n\u001b[1;32m      6\u001b[0m \u001b[0;34m\u001b[0m\u001b[0m\n\u001b[1;32m      7\u001b[0m     \u001b[0;32mif\u001b[0m \u001b[0mlen\u001b[0m\u001b[0;34m(\u001b[0m\u001b[0mrated_items_test\u001b[0m\u001b[0;34m)\u001b[0m \u001b[0;34m>\u001b[0m \u001b[0;36m0\u001b[0m\u001b[0;34m:\u001b[0m\u001b[0;34m\u001b[0m\u001b[0;34m\u001b[0m\u001b[0m\n\u001b[0;32m----> 8\u001b[0;31m         \u001b[0mactual_ratings\u001b[0m \u001b[0;34m=\u001b[0m \u001b[0mdummy_test_array\u001b[0m\u001b[0;34m[\u001b[0m\u001b[0muser_id\u001b[0m\u001b[0;34m,\u001b[0m \u001b[0mrated_five_items\u001b[0m\u001b[0;34m]\u001b[0m\u001b[0;34m\u001b[0m\u001b[0;34m\u001b[0m\u001b[0m\n\u001b[0m\u001b[1;32m      9\u001b[0m \u001b[0;34m\u001b[0m\u001b[0m\n\u001b[1;32m     10\u001b[0m         \u001b[0mpredicted_ratings\u001b[0m \u001b[0;34m=\u001b[0m \u001b[0mpredict_ratings\u001b[0m\u001b[0;34m(\u001b[0m\u001b[0muser_id\u001b[0m\u001b[0;34m,\u001b[0m \u001b[0mrated_five_items\u001b[0m\u001b[0;34m)\u001b[0m\u001b[0;34m\u001b[0m\u001b[0;34m\u001b[0m\u001b[0m\n",
            "\u001b[0;31mIndexError\u001b[0m: index 6038 is out of bounds for axis 0 with size 6038"
          ]
        }
      ]
    }
  ]
}